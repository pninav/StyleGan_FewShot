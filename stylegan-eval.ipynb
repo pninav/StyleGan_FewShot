{
  "nbformat": 4,
  "nbformat_minor": 5,
  "metadata": {
    "kernelspec": {
      "display_name": "Python 3",
      "language": "python",
      "name": "python3"
    },
    "language_info": {
      "codemirror_mode": {
        "name": "ipython",
        "version": 3
      },
      "file_extension": ".py",
      "mimetype": "text/x-python",
      "name": "python",
      "nbconvert_exporter": "python",
      "pygments_lexer": "ipython3",
      "version": "3.7.10"
    },
    "papermill": {
      "default_parameters": {},
      "duration": 473.887342,
      "end_time": "2021-07-24T19:24:05.652601",
      "environment_variables": {},
      "exception": null,
      "input_path": "__notebook__.ipynb",
      "output_path": "__notebook__.ipynb",
      "parameters": {},
      "start_time": "2021-07-24T19:16:11.765259",
      "version": "2.3.3"
    },
    "colab": {
      "name": "stylegan-eval.ipynb",
      "provenance": [],
      "collapsed_sections": [],
      "include_colab_link": true
    }
  },
  "cells": [
    {
      "cell_type": "markdown",
      "metadata": {
        "id": "view-in-github",
        "colab_type": "text"
      },
      "source": [
        "<a href=\"https://colab.research.google.com/github/pninav/StyleGan_FewShot/blob/main/stylegan-eval.ipynb\" target=\"_parent\"><img src=\"https://colab.research.google.com/assets/colab-badge.svg\" alt=\"Open In Colab\"/></a>"
      ]
    },
    {
      "cell_type": "markdown",
      "metadata": {
        "id": "aB5LMNtE0Z3k"
      },
      "source": [
        "Cloning StyleGan project (creates a local directory in google drive, initializes a. git directory inside it), and installing requirements. "
      ],
      "id": "aB5LMNtE0Z3k"
    },
    {
      "cell_type": "code",
      "metadata": {
        "execution": {
          "iopub.execute_input": "2021-07-24T19:16:18.708256Z",
          "iopub.status.busy": "2021-07-24T19:16:18.707711Z",
          "iopub.status.idle": "2021-07-24T19:16:56.118872Z",
          "shell.execute_reply": "2021-07-24T19:16:56.118152Z"
        },
        "id": "825971d8",
        "papermill": {
          "duration": 37.433596,
          "end_time": "2021-07-24T19:16:56.119056",
          "exception": false,
          "start_time": "2021-07-24T19:16:18.685460",
          "status": "completed"
        },
        "tags": []
      },
      "source": [
        "import os\n",
        "!pip install gdown\n",
        "os.makedirs('/content/')\n",
        "os.chdir('/content/')\n",
        "!git clone https://github.com/pninav/StyleGan_FewShot.git\n",
        "os.chdir('./StyleGan_FewShot/')\n",
        "!pip install -r requirements.txt\n"
      ],
      "id": "825971d8",
      "execution_count": null,
      "outputs": []
    },
    {
      "cell_type": "markdown",
      "metadata": {
        "id": "_0XURvaa0jnK"
      },
      "source": [
        "Download Weights and training graphs."
      ],
      "id": "_0XURvaa0jnK"
    },
    {
      "cell_type": "code",
      "metadata": {
        "execution": {
          "iopub.execute_input": "2021-07-24T19:16:56.261702Z",
          "iopub.status.busy": "2021-07-24T19:16:56.257221Z",
          "iopub.status.idle": "2021-07-24T19:17:07.731048Z",
          "shell.execute_reply": "2021-07-24T19:17:07.730544Z"
        },
        "id": "f9ce1187",
        "papermill": {
          "duration": 11.511674,
          "end_time": "2021-07-24T19:17:07.731176",
          "exception": false,
          "start_time": "2021-07-24T19:16:56.219502",
          "status": "completed"
        },
        "tags": []
      },
      "source": [
        "os.makedirs('/content/StyleGan_FewShot/monet/', exist_ok=True)\n",
        "os.chdir('/content//StyleGan_FewShot/monet')\n",
        "\n",
        "!gdown --id 1XZQ0mgcu2Bf6SCeGlLhbit9SWOsOZgjc\n",
        "os.makedirs('/content/StyleGan_FewShot/monet/best_run', exist_ok=True)\n",
        "os.chdir('/content//StyleGan_FewShot/monet/best_run')\n",
        "\n",
        "!gdown --id 1XgMTEOt6_PoWFAl3dm23YnsCdqaux1gM"
      ],
      "id": "f9ce1187",
      "execution_count": null,
      "outputs": []
    },
    {
      "cell_type": "markdown",
      "metadata": {
        "id": "ee513f39",
        "papermill": {
          "duration": 0.035388,
          "end_time": "2021-07-24T19:16:56.186687",
          "exception": false,
          "start_time": "2021-07-24T19:16:56.151299",
          "status": "completed"
        },
        "tags": []
      },
      "source": [
        "Generate Images."
      ],
      "id": "ee513f39"
    },
    {
      "cell_type": "code",
      "metadata": {
        "execution": {
          "iopub.execute_input": "2021-07-24T19:17:07.816521Z",
          "iopub.status.busy": "2021-07-24T19:17:07.815774Z",
          "iopub.status.idle": "2021-07-24T19:23:08.635531Z",
          "shell.execute_reply": "2021-07-24T19:23:08.636740Z"
        },
        "id": "2af4c48e",
        "papermill": {
          "duration": 360.864969,
          "end_time": "2021-07-24T19:23:08.637011",
          "exception": false,
          "start_time": "2021-07-24T19:17:07.772042",
          "status": "completed"
        },
        "tags": []
      },
      "source": [
        "os.chdir('/content/StyleGan_FewShot/')\n",
        "!python generate.py  /content/StyleGan_FewShot/monet/best.model --size 256"
      ],
      "id": "2af4c48e",
      "execution_count": null,
      "outputs": []
    },
    {
      "cell_type": "markdown",
      "metadata": {
        "id": "2ac99c06",
        "papermill": {
          "duration": 0.702884,
          "end_time": "2021-07-24T19:23:10.178831",
          "exception": false,
          "start_time": "2021-07-24T19:23:09.475947",
          "status": "completed"
        },
        "tags": []
      },
      "source": [
        "Create an output zip file for the competition, containing approximately 7000 Monet-style images (the input photos in Monet style)."
      ],
      "id": "2ac99c06"
    },
    {
      "cell_type": "code",
      "metadata": {
        "execution": {
          "iopub.execute_input": "2021-07-24T19:23:11.552611Z",
          "iopub.status.busy": "2021-07-24T19:23:11.551593Z",
          "iopub.status.idle": "2021-07-24T19:23:46.289827Z",
          "shell.execute_reply": "2021-07-24T19:23:46.288652Z"
        },
        "id": "067e285c",
        "papermill": {
          "duration": 35.429387,
          "end_time": "2021-07-24T19:23:46.290014",
          "exception": false,
          "start_time": "2021-07-24T19:23:10.860627",
          "status": "completed"
        },
        "tags": []
      },
      "source": [
        "!mkdir /content/StyleGan_FewShot/output/submission\n",
        "!zip -r  /kaggle/working/images.zip /content/StyleGan_FewShot/output/monet"
      ],
      "id": "067e285c",
      "execution_count": null,
      "outputs": []
    },
    {
      "cell_type": "markdown",
      "metadata": {
        "id": "331c6e72",
        "papermill": {
          "duration": 0.934485,
          "end_time": "2021-07-24T19:23:48.171835",
          "exception": false,
          "start_time": "2021-07-24T19:23:47.237350",
          "status": "completed"
        },
        "tags": []
      },
      "source": [
        "View Sample Images."
      ],
      "id": "331c6e72"
    },
    {
      "cell_type": "code",
      "metadata": {
        "execution": {
          "iopub.execute_input": "2021-07-24T19:23:50.061382Z",
          "iopub.status.busy": "2021-07-24T19:23:50.060415Z",
          "iopub.status.idle": "2021-07-24T19:23:50.384054Z",
          "shell.execute_reply": "2021-07-24T19:23:50.383481Z"
        },
        "id": "707197c5",
        "papermill": {
          "duration": 1.296535,
          "end_time": "2021-07-24T19:23:50.384208",
          "exception": false,
          "start_time": "2021-07-24T19:23:49.087673",
          "status": "completed"
        },
        "tags": []
      },
      "source": [
        "from IPython.display import Image\n",
        "from glob import glob\n",
        "import cv2\n",
        "\n",
        "for file in glob('/content/StyleGan_FewShot/output/monet_reduced/*.*'):\n",
        "    Image(file)"
      ],
      "id": "707197c5",
      "execution_count": null,
      "outputs": []
    },
    {
      "cell_type": "markdown",
      "metadata": {
        "id": "09b9d5c4",
        "papermill": {
          "duration": 0.925571,
          "end_time": "2021-07-24T19:23:54.446812",
          "exception": false,
          "start_time": "2021-07-24T19:23:53.521241",
          "status": "completed"
        },
        "tags": []
      },
      "source": [
        "View training dashboards such as scalars, graphs, histograms, and others result, using TensorBoard."
      ],
      "id": "09b9d5c4"
    },
    {
      "cell_type": "code",
      "metadata": {
        "execution": {
          "iopub.execute_input": "2021-07-24T19:23:56.296493Z",
          "iopub.status.busy": "2021-07-24T19:23:56.295786Z",
          "iopub.status.idle": "2021-07-24T19:24:02.834769Z",
          "shell.execute_reply": "2021-07-24T19:24:02.834287Z"
        },
        "id": "8b370377",
        "papermill": {
          "duration": 7.464217,
          "end_time": "2021-07-24T19:24:02.834932",
          "exception": false,
          "start_time": "2021-07-24T19:23:55.370715",
          "status": "completed"
        },
        "tags": []
      },
      "source": [
        "%load_ext tensorboard\n",
        "%tensorboard --logdir=/content/StyleGan_FewShot/monet  --port 6006"
      ],
      "id": "8b370377",
      "execution_count": null,
      "outputs": []
    }
  ]
}