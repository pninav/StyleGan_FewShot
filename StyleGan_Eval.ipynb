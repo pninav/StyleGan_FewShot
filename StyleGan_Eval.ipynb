{
  "nbformat": 4,
  "nbformat_minor": 0,
  "metadata": {
    "colab": {
      "name": "StyleGan_Eval.ipynb",
      "provenance": [],
      "collapsed_sections": [],
      "include_colab_link": true
    },
    "kernelspec": {
      "name": "python3",
      "display_name": "Python 3"
    },
    "language_info": {
      "name": "python"
    },
    "accelerator": "GPU"
  },
  "cells": [
    {
      "cell_type": "markdown",
      "metadata": {
        "id": "view-in-github",
        "colab_type": "text"
      },
      "source": [
        "<a href=\"https://colab.research.google.com/github/pninav/StyleGan_FewShot/blob/main/StyleGan_Eval.ipynb\" target=\"_parent\"><img src=\"https://colab.research.google.com/assets/colab-badge.svg\" alt=\"Open In Colab\"/></a>"
      ]
    },
    {
      "cell_type": "markdown",
      "metadata": {
        "id": "L5s0zPgzJ-Or"
      },
      "source": [
        "Cloning StyleGan project (creates a local directory in google drive, initializes a. git directory inside it), and installing requirements. "
      ]
    },
    {
      "cell_type": "code",
      "metadata": {
        "id": "rm76_dl2T9N4"
      },
      "source": [
        "import os\n",
        "!git clone https://github.com/pninav/StyleGan_FewShot.git\n",
        "os.chdir('./StyleGan_FewShot/')\n",
        "!pip install -r requirements.txt\n"
      ],
      "execution_count": null,
      "outputs": []
    },
    {
      "cell_type": "markdown",
      "metadata": {
        "id": "roaQ4YQ6KIUf"
      },
      "source": [
        "Download Weights and training graphs."
      ]
    },
    {
      "cell_type": "code",
      "metadata": {
        "id": "4sdE0aqFXnAk"
      },
      "source": [
        "os.makedirs('/content/StyleGan_FewShot/monet/', exist_ok=True)\n",
        "os.chdir('/content//StyleGan_FewShot/monet')\n",
        "\n",
        "!gdown --id 1XZQ0mgcu2Bf6SCeGlLhbit9SWOsOZgjc\n",
        "os.makedirs('/content/StyleGan_FewShot/monet/best_run', exist_ok=True)\n",
        "os.chdir('/content//StyleGan_FewShot/monet/best_run')\n",
        "\n",
        "!gdown --id 1XgMTEOt6_PoWFAl3dm23YnsCdqaux1gM"
      ],
      "execution_count": null,
      "outputs": []
    },
    {
      "cell_type": "markdown",
      "metadata": {
        "id": "ZEZqGBTsUrkN"
      },
      "source": [
        "Generate Images."
      ]
    },
    {
      "cell_type": "code",
      "metadata": {
        "id": "XdvfP7jCUF-W"
      },
      "source": [
        "os.chdir('/content/StyleGan_FewShot/')\n",
        "!python generate.py  /content/StyleGan_FewShot/monet/best.model --size 256"
      ],
      "execution_count": null,
      "outputs": []
    },
    {
      "cell_type": "markdown",
      "metadata": {
        "id": "iu7Wipv7U6VW"
      },
      "source": [
        "Create an output zip file for the competition, containing approximately 7000 Monet-style images (the input photos in Monet style)."
      ]
    },
    {
      "cell_type": "code",
      "metadata": {
        "id": "bn4pZACrU-QX"
      },
      "source": [
        "!mkdir /content/StyleGan_FewShot/output/submission\n",
        "!zip -r  /content/StyleGan_FewShot/output/submission/Pnina.zip /content/StyleGan_FewShot/output/monet"
      ],
      "execution_count": null,
      "outputs": []
    },
    {
      "cell_type": "markdown",
      "metadata": {
        "id": "86TDE1kYVFqp"
      },
      "source": [
        "View sample Images."
      ]
    },
    {
      "cell_type": "code",
      "metadata": {
        "id": "XoiMQPeYYulC",
        "colab": {
          "base_uri": "https://localhost:8080/",
          "height": 1000
        },
        "outputId": "db85a850-925b-465d-db3e-ce418a0069ca"
      },
      "source": [
        "from google.colab.patches import cv2_imshow\n",
        "from glob import glob\n",
        "import cv2\n",
        "\n",
        "for file in glob('/content/StyleGan_FewShot/output/monet_reduced/*.*'):\n",
        "  img = cv2.imread(file, cv2.IMREAD_UNCHANGED)\n",
        "  cv2_imshow(img) "
      ],
      "execution_count": null,
      "outputs": []
    },
    {
      "cell_type": "markdown",
      "metadata": {
        "id": "eD0nPlDcUt4n"
      },
      "source": [
        "View training dashboards such as scalars, graphs, histograms, and others result, using TensorBoard."
      ]
    },
    {
      "cell_type": "code",
      "metadata": {
        "colab": {
          "base_uri": "https://localhost:8080/",
          "height": 820
        },
        "id": "OGiwF85NUvvX",
        "outputId": "e68b13b5-1fb7-4626-d5bc-a8e2fa15b284"
      },
      "source": [
        "%load_ext tensorboard\n",
        "%tensorboard --logdir=/content/StyleGan_FewShot/monet  --port 6006"
      ],
      "execution_count": null,
      "outputs": []
    }
  ]
}