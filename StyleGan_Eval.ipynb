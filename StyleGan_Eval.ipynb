{
  "nbformat": 4,
  "nbformat_minor": 0,
  "metadata": {
    "colab": {
      "name": "StyleGan_Eval.ipynb",
      "provenance": [],
      "collapsed_sections": [],
      "include_colab_link": true
    },
    "kernelspec": {
      "name": "python3",
      "display_name": "Python 3"
    },
    "language_info": {
      "name": "python"
    },
    "accelerator": "GPU"
  },
  "cells": [
    {
      "cell_type": "markdown",
      "metadata": {
        "id": "view-in-github",
        "colab_type": "text"
      },
      "source": [
        "<a href=\"https://colab.research.google.com/github/pninav/StyleGan_FewShot/blob/main/StyleGan_Eval.ipynb\" target=\"_parent\"><img src=\"https://colab.research.google.com/assets/colab-badge.svg\" alt=\"Open In Colab\"/></a>"
      ]
    },
    {
      "cell_type": "code",
      "metadata": {
        "id": "rm76_dl2T9N4"
      },
      "source": [
        "import os\n",
        "!git clone https://github.com/pninav/StyleGan_FewShot.git\n",
        "os.chdir('./StyleGan_FewShot/')\n",
        "!pip install -r requirements.txt\n"
      ],
      "execution_count": null,
      "outputs": []
    },
    {
      "cell_type": "markdown",
      "metadata": {
        "id": "ZEZqGBTsUrkN"
      },
      "source": [
        "Generate Images"
      ]
    },
    {
      "cell_type": "code",
      "metadata": {
        "id": "4sdE0aqFXnAk"
      },
      "source": [
        "os.makedirs('/content/StyleGan_FewShot/monet/', exist_ok=True)\n",
        "os.chdir('/content//StyleGan_FewShot/monet')\n",
        "\n",
        "!gdown --id 1XZQ0mgcu2Bf6SCeGlLhbit9SWOsOZgjc\n",
        "os.makedirs('/content/StyleGan_FewShot/monet/best_run', exist_ok=True)\n",
        "os.chdir('/content//StyleGan_FewShot/monet/best_run')\n",
        "\n",
        "!gdown --id 1XgMTEOt6_PoWFAl3dm23YnsCdqaux1gM"
      ],
      "execution_count": null,
      "outputs": []
    },
    {
      "cell_type": "code",
      "metadata": {
        "id": "XdvfP7jCUF-W"
      },
      "source": [
        "os.chdir('/content/StyleGan_FewShot/')\n",
        "!python generate.py  /content/StyleGan_FewShot/monet/best.model --size 256"
      ],
      "execution_count": null,
      "outputs": []
    },
    {
      "cell_type": "markdown",
      "metadata": {
        "id": "iu7Wipv7U6VW"
      },
      "source": [
        "Create ZIP for Submission"
      ]
    },
    {
      "cell_type": "code",
      "metadata": {
        "id": "bn4pZACrU-QX"
      },
      "source": [
        "!mkdir /content/StyleGan_FewShot/output/submission\n",
        "!zip -r  /content/StyleGan_FewShot/output/submission/Pnina.zip /content/StyleGan_FewShot/output/monet"
      ],
      "execution_count": null,
      "outputs": []
    },
    {
      "cell_type": "markdown",
      "metadata": {
        "id": "86TDE1kYVFqp"
      },
      "source": [
        "View Sample Images"
      ]
    },
    {
      "cell_type": "code",
      "metadata": {
        "id": "XoiMQPeYYulC"
      },
      "source": [
        "from google.colab.patches import cv2_imshow\n",
        "from glob import glob\n",
        "import cv2\n",
        "\n",
        "for file in glob('/content/StyleGan_FewShot/output/monet_reduced/*.*'):\n",
        "  img = cv2.imread(file, cv2.IMREAD_UNCHANGED)\n",
        "  cv2_imshow(img) "
      ],
      "execution_count": null,
      "outputs": []
    },
    {
      "cell_type": "markdown",
      "metadata": {
        "id": "eD0nPlDcUt4n"
      },
      "source": [
        "View Training Graphs"
      ]
    },
    {
      "cell_type": "code",
      "metadata": {
        "id": "OGiwF85NUvvX"
      },
      "source": [
        "%load_ext tensorboard\n",
        "%tensorboard --logdir=/content/StyleGan_FewShot/monet  --port 6006"
      ],
      "execution_count": null,
      "outputs": []
    }
  ]
}