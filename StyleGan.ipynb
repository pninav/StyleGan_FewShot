{
  "nbformat": 4,
  "nbformat_minor": 0,
  "metadata": {
    "accelerator": "GPU",
    "colab": {
      "name": "StyleGan.ipynb",
      "provenance": [],
      "collapsed_sections": [],
      "include_colab_link": true
    },
    "kernelspec": {
      "display_name": "Python 3",
      "name": "python3"
    },
    "language_info": {
      "name": "python"
    }
  },
  "cells": [
    {
      "cell_type": "markdown",
      "metadata": {
        "id": "view-in-github",
        "colab_type": "text"
      },
      "source": [
        "<a href=\"https://colab.research.google.com/github/pninav/StyleGan_FewShot/blob/main/StyleGan.ipynb\" target=\"_parent\"><img src=\"https://colab.research.google.com/assets/colab-badge.svg\" alt=\"Open In Colab\"/></a>"
      ]
    },
    {
      "cell_type": "markdown",
      "metadata": {
        "id": "DOx3jzwHWEnB"
      },
      "source": [
        "Mounting to google-drive."
      ]
    },
    {
      "cell_type": "code",
      "metadata": {
        "id": "uiBi0qHpWDWu"
      },
      "source": [
        "from google.colab import drive\n",
        "import os\n",
        "drive.mount('/content/Pnina/')\n",
        "os.chdir('/content/Pnina/MyDrive/')"
      ],
      "execution_count": null,
      "outputs": []
    },
    {
      "cell_type": "markdown",
      "metadata": {
        "id": "dGBUAGE42hnR"
      },
      "source": [
        "Delete Project folder for fresh start."
      ]
    },
    {
      "cell_type": "code",
      "metadata": {
        "id": "c_v7-5EQ2giO"
      },
      "source": [
        "import shutil\n",
        "shutil.rmtree('/content/Pnina/MyDrive/StyleGan_FewShot',ignore_errors=True)"
      ],
      "execution_count": null,
      "outputs": []
    },
    {
      "cell_type": "markdown",
      "metadata": {
        "id": "5whlCxjRV3pB"
      },
      "source": [
        "Cloning StyleGan project (creates a local directory in google drive, initializes a. git directory inside it), and installing requirements. "
      ]
    },
    {
      "cell_type": "code",
      "metadata": {
        "id": "_jYq2pVVWCgU"
      },
      "source": [
        "\n",
        "!git clone https://github.com/pninav/StyleGan_FewShot.git\n",
        "os.chdir('/content/Pnina/MyDrive/StyleGan_FewShot/')\n",
        "!pip install -r requirements.txt\n",
        "\n"
      ],
      "execution_count": null,
      "outputs": []
    },
    {
      "cell_type": "markdown",
      "metadata": {
        "id": "e4FzRfuOXpuw"
      },
      "source": [
        "Download Kaggle dataset using Kaggle API. "
      ]
    },
    {
      "cell_type": "code",
      "metadata": {
        "id": "GHSWXEjUrGU1"
      },
      "source": [
        "import os\n",
        "os.chdir('/content/Pnina/MyDrive/StyleGan_FewShot/')\n",
        "os.environ['KAGGLE_CONFIG_DIR'] = '/content/Pnina/MyDrive/StyleGan_FewShot/kaggle/'\n",
        "!mkdir -p kaggle_dataset\n",
        "os.chdir('/content/Pnina/MyDrive/StyleGan_FewShot/kaggle_dataset')\n",
        "!kaggle competitions download -c gan-getting-started "
      ],
      "execution_count": null,
      "outputs": []
    },
    {
      "cell_type": "markdown",
      "metadata": {
        "id": "h-6eKYEEDm4H"
      },
      "source": [
        "Create StyleGan_Fewshot folder (the GitHub files will be transferred there)."
      ]
    },
    {
      "cell_type": "code",
      "metadata": {
        "id": "B8h1H13xFfdp"
      },
      "source": [
        "os.chdir('/content/Pnina/MyDrive/StyleGan_FewShot/')"
      ],
      "execution_count": null,
      "outputs": []
    },
    {
      "cell_type": "markdown",
      "metadata": {
        "id": "WcrZpK7fDeKD"
      },
      "source": [
        "Save the thirty images of Monet."
      ]
    },
    {
      "cell_type": "code",
      "metadata": {
        "id": "FTijciZYRjpU"
      },
      "source": [
        "!python save_images_monet.py"
      ],
      "execution_count": null,
      "outputs": []
    },
    {
      "cell_type": "markdown",
      "metadata": {
        "id": "ad4B5JRQMF2d"
      },
      "source": [
        "View selected Monet images."
      ]
    },
    {
      "cell_type": "code",
      "metadata": {
        "id": "SE-Qu-P3L3Ul"
      },
      "source": [
        "from google.colab.patches import cv2_imshow\n",
        "import cv2\n",
        "from glob import glob\n",
        "for file in glob('/content/Pnina/MyDrive/StyleGan_FewShot/kaggle_dataset/monet_reduced/*.*'):\n",
        "  img = cv2.imread(file, cv2.IMREAD_UNCHANGED)\n",
        "  cv2_imshow(img)\n"
      ],
      "execution_count": null,
      "outputs": []
    },
    {
      "cell_type": "markdown",
      "metadata": {
        "id": "G1hYKPAAftk4"
      },
      "source": [
        "Download pretrained StyleGan."
      ]
    },
    {
      "cell_type": "code",
      "metadata": {
        "id": "qxbvPAZLhKo1"
      },
      "source": [
        "os.makedirs('./checkpoint',exist_ok=True)\n",
        "os.chdir('/content/Pnina/MyDrive/StyleGan_FewShot/checkpoint')\n"
      ],
      "execution_count": null,
      "outputs": []
    },
    {
      "cell_type": "markdown",
      "metadata": {
        "id": "4igb8X7qFFcf"
      },
      "source": [
        "Download the training weights."
      ]
    },
    {
      "cell_type": "code",
      "metadata": {
        "id": "HioArkajfv7e",
        "colab": {
          "base_uri": "https://localhost:8080/"
        },
        "outputId": "123007c4-52ed-4212-a8cd-cf2af22758a1"
      },
      "source": [
        "!gdown --id 1QlXFPIOFzsJyjZ1AtfpnVhqW4Z0r8GLZ\n",
        "os.chdir('/content/Pnina/MyDrive/StyleGan_FewShot/')\n"
      ],
      "execution_count": null,
      "outputs": [
        {
          "output_type": "stream",
          "text": [
            "Downloading...\n",
            "From: https://drive.google.com/uc?id=1QlXFPIOFzsJyjZ1AtfpnVhqW4Z0r8GLZ\n",
            "To: /content/Pnina/MyDrive/StyleGan_FewShot/checkpoint/stylegan-256px-new.model\n",
            "725MB [00:12, 59.4MB/s]\n"
          ],
          "name": "stdout"
        }
      ]
    },
    {
      "cell_type": "markdown",
      "metadata": {
        "id": "-J9yl2oxBX2F"
      },
      "source": [
        "Data preparation - produces one file of all the images."
      ]
    },
    {
      "cell_type": "code",
      "metadata": {
        "id": "GOVcB0hSteTK"
      },
      "source": [
        "os.makedirs('./dataset',exist_ok=True)\n",
        "!python prepare_data.py --out monet --dataset /content/Pnina/MyDrive/StyleGan_FewShot/kaggle_dataset/monet_reduced/\n"
      ],
      "execution_count": null,
      "outputs": []
    },
    {
      "cell_type": "markdown",
      "metadata": {
        "id": "OGCeLeSGGFsC"
      },
      "source": [
        "Pre-computing the MiFID score on the real photos (Monet images).  "
      ]
    },
    {
      "cell_type": "code",
      "metadata": {
        "id": "YHRUQlCDyEWY"
      },
      "source": [
        "!python precompute_acts.py --dataset monet\n"
      ],
      "execution_count": null,
      "outputs": []
    },
    {
      "cell_type": "markdown",
      "metadata": {
        "id": "eA2aaShmG7DR"
      },
      "source": [
        "Model training\n",
        "\n",
        "After each Epoch, performs the calculations, including in MiFID that were previously calculated on the real images, to improve model performance."
      ]
    },
    {
      "cell_type": "code",
      "metadata": {
        "id": "HAKHPkMGhF70"
      },
      "source": [
        "!python finetune.py --name monet --mixing --loss r1 --sched --dataset monet --freeze_D --feature_loc 3\n"
      ],
      "execution_count": null,
      "outputs": []
    }
  ]
}