{
  "nbformat": 4,
  "nbformat_minor": 0,
  "metadata": {
    "accelerator": "GPU",
    "colab": {
      "name": "StyleGan.ipynb",
      "provenance": [],
      "collapsed_sections": [],
      "include_colab_link": true
    },
    "kernelspec": {
      "display_name": "Python 3",
      "name": "python3"
    },
    "language_info": {
      "name": "python"
    }
  },
  "cells": [
    {
      "cell_type": "markdown",
      "metadata": {
        "id": "view-in-github",
        "colab_type": "text"
      },
      "source": [
        "<a href=\"https://colab.research.google.com/github/pninav/StyleGan_FewShot/blob/main/StyleGan.ipynb\" target=\"_parent\"><img src=\"https://colab.research.google.com/assets/colab-badge.svg\" alt=\"Open In Colab\"/></a>"
      ]
    },
    {
      "cell_type": "markdown",
      "metadata": {
        "id": "DOx3jzwHWEnB"
      },
      "source": [
        "Mounting to google-drive"
      ]
    },
    {
      "cell_type": "code",
      "metadata": {
        "colab": {
          "base_uri": "https://localhost:8080/"
        },
        "id": "uiBi0qHpWDWu",
        "outputId": "442e56f3-dc07-4f66-b3fb-c341cd64cf68"
      },
      "source": [
        "from google.colab import drive\n",
        "import os\n",
        "drive.mount('/content/Pnina/')\n",
        "os.chdir('/content/Pnina/MyDrive/')"
      ],
      "execution_count": 1,
      "outputs": [
        {
          "output_type": "stream",
          "text": [
            "Mounted at /content/Pnina/\n"
          ],
          "name": "stdout"
        }
      ]
    },
    {
      "cell_type": "markdown",
      "metadata": {
        "id": "dGBUAGE42hnR"
      },
      "source": [
        "Delete Project folder for fresh start"
      ]
    },
    {
      "cell_type": "code",
      "metadata": {
        "id": "c_v7-5EQ2giO"
      },
      "source": [
        "import shutil\n",
        "shutil.rmtree('/content/Pnina/MyDrive/StyleGan_FewShot',ignore_errors=True)"
      ],
      "execution_count": 2,
      "outputs": []
    },
    {
      "cell_type": "markdown",
      "metadata": {
        "id": "5whlCxjRV3pB"
      },
      "source": [
        "Cloning CycleGan project and installing requirements"
      ]
    },
    {
      "cell_type": "code",
      "metadata": {
        "colab": {
          "base_uri": "https://localhost:8080/"
        },
        "id": "_jYq2pVVWCgU",
        "outputId": "096c2104-2f51-44ca-bc21-a374ded55dc8"
      },
      "source": [
        "\n",
        "!git clone https://github.com/pninav/StyleGan_FewShot.git\n",
        "os.chdir('/content/Pnina/MyDrive/StyleGan_FewShot/')\n",
        "!pip install -r requirements.txt\n",
        "\n"
      ],
      "execution_count": 3,
      "outputs": [
        {
          "output_type": "stream",
          "text": [
            "Cloning into 'StyleGan_FewShot'...\n",
            "remote: Enumerating objects: 34, done.\u001b[K\n",
            "remote: Counting objects: 100% (34/34), done.\u001b[K\n",
            "remote: Compressing objects: 100% (30/30), done.\u001b[K\n",
            "remote: Total 34 (delta 3), reused 26 (delta 1), pack-reused 0\u001b[K\n",
            "Unpacking objects: 100% (34/34), done.\n",
            "Requirement already satisfied: torch>=1.5.0 in /usr/local/lib/python3.7/dist-packages (from -r requirements.txt (line 1)) (1.9.0+cu102)\n",
            "Requirement already satisfied: torchvision>=0.5.0 in /usr/local/lib/python3.7/dist-packages (from -r requirements.txt (line 2)) (0.10.0+cu102)\n",
            "Collecting dominate>=2.4.0\n",
            "  Downloading dominate-2.6.0-py2.py3-none-any.whl (29 kB)\n",
            "Collecting visdom>=0.1.8.8\n",
            "  Downloading visdom-0.1.8.9.tar.gz (676 kB)\n",
            "\u001b[K     |████████████████████████████████| 676 kB 13.6 MB/s \n",
            "\u001b[?25hRequirement already satisfied: packaging in /usr/local/lib/python3.7/dist-packages (from -r requirements.txt (line 5)) (21.0)\n",
            "Collecting GPUtil>=1.4.0\n",
            "  Downloading GPUtil-1.4.0.tar.gz (5.5 kB)\n",
            "Requirement already satisfied: click in /usr/local/lib/python3.7/dist-packages (from -r requirements.txt (line 7)) (7.1.2)\n",
            "Requirement already satisfied: requests in /usr/local/lib/python3.7/dist-packages (from -r requirements.txt (line 8)) (2.23.0)\n",
            "Requirement already satisfied: tqdm in /usr/local/lib/python3.7/dist-packages (from -r requirements.txt (line 9)) (4.41.1)\n",
            "Collecting pyspng\n",
            "  Downloading pyspng-0.1.0-cp37-cp37m-manylinux2010_x86_64.whl (195 kB)\n",
            "\u001b[K     |████████████████████████████████| 195 kB 56.2 MB/s \n",
            "\u001b[?25hCollecting ninja\n",
            "  Downloading ninja-1.10.2-py2.py3-none-manylinux_2_5_x86_64.manylinux1_x86_64.whl (108 kB)\n",
            "\u001b[K     |████████████████████████████████| 108 kB 70.4 MB/s \n",
            "\u001b[?25hCollecting imageio-ffmpeg==0.4.3.\n",
            "  Downloading imageio_ffmpeg-0.4.3-py3-none-manylinux2010_x86_64.whl (26.9 MB)\n",
            "\u001b[K     |████████████████████████████████| 26.9 MB 84 kB/s \n",
            "\u001b[?25hRequirement already satisfied: typing-extensions in /usr/local/lib/python3.7/dist-packages (from torch>=1.5.0->-r requirements.txt (line 1)) (3.7.4.3)\n",
            "Requirement already satisfied: numpy in /usr/local/lib/python3.7/dist-packages (from torchvision>=0.5.0->-r requirements.txt (line 2)) (1.19.5)\n",
            "Requirement already satisfied: pillow>=5.3.0 in /usr/local/lib/python3.7/dist-packages (from torchvision>=0.5.0->-r requirements.txt (line 2)) (7.1.2)\n",
            "Requirement already satisfied: scipy in /usr/local/lib/python3.7/dist-packages (from visdom>=0.1.8.8->-r requirements.txt (line 4)) (1.4.1)\n",
            "Requirement already satisfied: tornado in /usr/local/lib/python3.7/dist-packages (from visdom>=0.1.8.8->-r requirements.txt (line 4)) (5.1.1)\n",
            "Requirement already satisfied: pyzmq in /usr/local/lib/python3.7/dist-packages (from visdom>=0.1.8.8->-r requirements.txt (line 4)) (22.1.0)\n",
            "Requirement already satisfied: six in /usr/local/lib/python3.7/dist-packages (from visdom>=0.1.8.8->-r requirements.txt (line 4)) (1.15.0)\n",
            "Collecting jsonpatch\n",
            "  Downloading jsonpatch-1.32-py2.py3-none-any.whl (12 kB)\n",
            "Collecting torchfile\n",
            "  Downloading torchfile-0.1.0.tar.gz (5.2 kB)\n",
            "Collecting websocket-client\n",
            "  Downloading websocket_client-1.1.1-py2.py3-none-any.whl (68 kB)\n",
            "\u001b[K     |████████████████████████████████| 68 kB 8.5 MB/s \n",
            "\u001b[?25hRequirement already satisfied: pyparsing>=2.0.2 in /usr/local/lib/python3.7/dist-packages (from packaging->-r requirements.txt (line 5)) (2.4.7)\n",
            "Requirement already satisfied: urllib3!=1.25.0,!=1.25.1,<1.26,>=1.21.1 in /usr/local/lib/python3.7/dist-packages (from requests->-r requirements.txt (line 8)) (1.24.3)\n",
            "Requirement already satisfied: certifi>=2017.4.17 in /usr/local/lib/python3.7/dist-packages (from requests->-r requirements.txt (line 8)) (2021.5.30)\n",
            "Requirement already satisfied: idna<3,>=2.5 in /usr/local/lib/python3.7/dist-packages (from requests->-r requirements.txt (line 8)) (2.10)\n",
            "Requirement already satisfied: chardet<4,>=3.0.2 in /usr/local/lib/python3.7/dist-packages (from requests->-r requirements.txt (line 8)) (3.0.4)\n",
            "Collecting jsonpointer>=1.9\n",
            "  Downloading jsonpointer-2.1-py2.py3-none-any.whl (7.4 kB)\n",
            "Building wheels for collected packages: visdom, GPUtil, torchfile\n",
            "  Building wheel for visdom (setup.py) ... \u001b[?25l\u001b[?25hdone\n",
            "  Created wheel for visdom: filename=visdom-0.1.8.9-py3-none-any.whl size=655249 sha256=66faff40a5fc518f7f2ec6b7b5d4076e6ddb422e34d49367b395cedcfc7eb35f\n",
            "  Stored in directory: /root/.cache/pip/wheels/2d/d1/9b/cde923274eac9cbb6ff0d8c7c72fe30a3da9095a38fd50bbf1\n",
            "  Building wheel for GPUtil (setup.py) ... \u001b[?25l\u001b[?25hdone\n",
            "  Created wheel for GPUtil: filename=GPUtil-1.4.0-py3-none-any.whl size=7410 sha256=c66fd3bc5b313b124db32d679f3428cd725239a7a3186b7e00b22ad68e40acfb\n",
            "  Stored in directory: /root/.cache/pip/wheels/6e/f8/83/534c52482d6da64622ddbf72cd93c35d2ef2881b78fd08ff0c\n",
            "  Building wheel for torchfile (setup.py) ... \u001b[?25l\u001b[?25hdone\n",
            "  Created wheel for torchfile: filename=torchfile-0.1.0-py3-none-any.whl size=5710 sha256=010e5f20218e8f65e5c9e47c860e3495d47a32566260719d7b3a246722b7dcc7\n",
            "  Stored in directory: /root/.cache/pip/wheels/ac/5c/3a/a80e1c65880945c71fd833408cd1e9a8cb7e2f8f37620bb75b\n",
            "Successfully built visdom GPUtil torchfile\n",
            "Installing collected packages: jsonpointer, websocket-client, torchfile, jsonpatch, visdom, pyspng, ninja, imageio-ffmpeg, GPUtil, dominate\n",
            "Successfully installed GPUtil-1.4.0 dominate-2.6.0 imageio-ffmpeg-0.4.3 jsonpatch-1.32 jsonpointer-2.1 ninja-1.10.2 pyspng-0.1.0 torchfile-0.1.0 visdom-0.1.8.9 websocket-client-1.1.1\n"
          ],
          "name": "stdout"
        }
      ]
    },
    {
      "cell_type": "markdown",
      "metadata": {
        "id": "e4FzRfuOXpuw"
      },
      "source": [
        "Download Kaggle dataset"
      ]
    },
    {
      "cell_type": "code",
      "metadata": {
        "colab": {
          "base_uri": "https://localhost:8080/"
        },
        "id": "GHSWXEjUrGU1",
        "outputId": "77088253-a677-4b20-a255-6256ef52bb6f"
      },
      "source": [
        "import os\n",
        "os.chdir('/content/Pnina/MyDrive/StyleGan_FewShot/')\n",
        "os.environ['KAGGLE_CONFIG_DIR'] = '/content/Pnina/MyDrive/StyleGan_FewShot/kaggle/'\n",
        "!mkdir -p kaggle_dataset\n",
        "os.chdir('/content/Pnina/MyDrive/StyleGan_FewShot/kaggle_dataset')\n",
        "!kaggle competitions download -c gan-getting-started "
      ],
      "execution_count": 13,
      "outputs": [
        {
          "output_type": "stream",
          "text": [
            "Warning: Looks like you're using an outdated API Version, please consider updating (server 1.5.12 / client 1.5.4)\n",
            "0260d15306.jpg: Skipping, found more recently modified local copy (use --force to force download)\n",
            "052a77c020.jpg: Skipping, found more recently modified local copy (use --force to force download)\n",
            "058f878b7c.jpg: Skipping, found more recently modified local copy (use --force to force download)\n",
            "05144e306f.jpg: Skipping, found more recently modified local copy (use --force to force download)\n",
            "0bd913dbc7.jpg: Skipping, found more recently modified local copy (use --force to force download)\n",
            "106757e5d8.jpg: Skipping, found more recently modified local copy (use --force to force download)\n",
            "064487d630.jpg: Skipping, found more recently modified local copy (use --force to force download)\n",
            "09b76b6471.jpg: Skipping, found more recently modified local copy (use --force to force download)\n",
            "049e293b93.jpg: Skipping, found more recently modified local copy (use --force to force download)\n",
            "10c555c1b1.jpg: Skipping, found more recently modified local copy (use --force to force download)\n",
            "429 - Too Many Requests\n"
          ],
          "name": "stdout"
        }
      ]
    },
    {
      "cell_type": "code",
      "metadata": {
        "id": "B8h1H13xFfdp"
      },
      "source": [
        "os.chdir('/content/Pnina/MyDrive/StyleGan_FewShot/')"
      ],
      "execution_count": 5,
      "outputs": []
    },
    {
      "cell_type": "code",
      "metadata": {
        "colab": {
          "base_uri": "https://localhost:8080/"
        },
        "id": "FTijciZYRjpU",
        "outputId": "1e5e35ac-4a8d-4f5a-c588-126fc8aafc36"
      },
      "source": [
        "!python save_images_monet.py"
      ],
      "execution_count": 6,
      "outputs": [
        {
          "output_type": "stream",
          "text": [
            "2021-08-06 12:06:34.369994: I tensorflow/stream_executor/platform/default/dso_loader.cc:53] Successfully opened dynamic library libcudart.so.11.0\n",
            "Traceback (most recent call last):\n",
            "  File \"save_images_monet.py\", line 153, in <module>\n",
            "    make_dataset_kaggle('/content/Pnina/MyDrive/StyleGan_FewShot/kaggle_dataset/',True)\n",
            "  File \"save_images_monet.py\", line 93, in make_dataset_kaggle\n",
            "    for item in os.listdir(os.path.join(path,'monet')):\n",
            "FileNotFoundError: [Errno 2] No such file or directory: '/content/Pnina/MyDrive/StyleGan_FewShot/kaggle_dataset/monet'\n"
          ],
          "name": "stdout"
        }
      ]
    },
    {
      "cell_type": "markdown",
      "metadata": {
        "id": "ad4B5JRQMF2d"
      },
      "source": [
        "View selected Monet files"
      ]
    },
    {
      "cell_type": "code",
      "metadata": {
        "id": "SE-Qu-P3L3Ul"
      },
      "source": [
        "from google.colab.patches import cv2_imshow\n",
        "import cv2\n",
        "from glob import glob\n",
        "for file in glob('/content/Pnina/MyDrive/StyleGan_FewShot/kaggle_dataset/monet_reduced/*.*'):\n",
        "  img = cv2.imread(file, cv2.IMREAD_UNCHANGED)\n",
        "  cv2_imshow(img)\n"
      ],
      "execution_count": 7,
      "outputs": []
    },
    {
      "cell_type": "markdown",
      "metadata": {
        "id": "G1hYKPAAftk4"
      },
      "source": [
        "Download pretrained StyleGan"
      ]
    },
    {
      "cell_type": "code",
      "metadata": {
        "id": "qxbvPAZLhKo1"
      },
      "source": [
        "os.makedirs('./checkpoint',exist_ok=True)\n",
        "os.chdir('/content/Pnina/MyDrive/StyleGan_FewShot/checkpoint')\n"
      ],
      "execution_count": 8,
      "outputs": []
    },
    {
      "cell_type": "code",
      "metadata": {
        "id": "HioArkajfv7e",
        "colab": {
          "base_uri": "https://localhost:8080/"
        },
        "outputId": "123007c4-52ed-4212-a8cd-cf2af22758a1"
      },
      "source": [
        "!gdown --id 1QlXFPIOFzsJyjZ1AtfpnVhqW4Z0r8GLZ\n",
        "os.chdir('/content/Pnina/MyDrive/StyleGan_FewShot/')\n"
      ],
      "execution_count": 9,
      "outputs": [
        {
          "output_type": "stream",
          "text": [
            "Downloading...\n",
            "From: https://drive.google.com/uc?id=1QlXFPIOFzsJyjZ1AtfpnVhqW4Z0r8GLZ\n",
            "To: /content/Pnina/MyDrive/StyleGan_FewShot/checkpoint/stylegan-256px-new.model\n",
            "725MB [00:12, 59.4MB/s]\n"
          ],
          "name": "stdout"
        }
      ]
    },
    {
      "cell_type": "markdown",
      "metadata": {
        "id": "-J9yl2oxBX2F"
      },
      "source": [
        "Preparing Data"
      ]
    },
    {
      "cell_type": "code",
      "metadata": {
        "id": "GOVcB0hSteTK",
        "colab": {
          "base_uri": "https://localhost:8080/"
        },
        "outputId": "4b866ef5-c0de-4527-e7f1-4f2324608db5"
      },
      "source": [
        "os.makedirs('./dataset',exist_ok=True)\n",
        "!python prepare_data.py --out monet --dataset /content/Pnina/MyDrive/StyleGan_FewShot/kaggle_dataset/monet_reduced/\n"
      ],
      "execution_count": 10,
      "outputs": [
        {
          "output_type": "stream",
          "text": [
            "[]\n",
            "0it [00:00, ?it/s]\n"
          ],
          "name": "stdout"
        }
      ]
    },
    {
      "cell_type": "code",
      "metadata": {
        "id": "YHRUQlCDyEWY",
        "colab": {
          "base_uri": "https://localhost:8080/"
        },
        "outputId": "8ed4722e-63e6-4788-fba4-fa8d8ce19d68"
      },
      "source": [
        "!python precompute_acts.py --dataset monet\n"
      ],
      "execution_count": 11,
      "outputs": [
        {
          "output_type": "stream",
          "text": [
            "/usr/local/lib/python3.7/dist-packages/torchvision/models/inception.py:82: FutureWarning: The default weight initialization of inception_v3 will be changed in future releases of torchvision. If you wish to keep the old behavior (which leads to long initialization times due to scipy/scipy#11299), please set init_weights=True.\n",
            "  ' due to scipy/scipy#11299), please set init_weights=True.', FutureWarning)\n",
            "Downloading: \"https://github.com/mseitzer/pytorch-fid/releases/download/fid_weights/pt_inception-2015-12-05-6726825d.pth\" to /root/.cache/torch/hub/checkpoints/pt_inception-2015-12-05-6726825d.pth\n",
            "100% 91.2M/91.2M [00:01<00:00, 69.8MB/s]\n",
            "Traceback (most recent call last):\n",
            "  File \"precompute_acts.py\", line 38, in <module>\n",
            "    loader = sample_data(dataset, args.batch_size, args.image_size)\n",
            "  File \"/content/Pnina/My Drive/StyleGan_FewShot/train.py\", line 35, in sample_data\n",
            "    loader = DataLoader(dataset, shuffle=True, batch_size=batch_size, num_workers=1)\n",
            "  File \"/usr/local/lib/python3.7/dist-packages/torch/utils/data/dataloader.py\", line 270, in __init__\n",
            "    sampler = RandomSampler(dataset, generator=generator)  # type: ignore[arg-type]\n",
            "  File \"/usr/local/lib/python3.7/dist-packages/torch/utils/data/sampler.py\", line 103, in __init__\n",
            "    \"value, but got num_samples={}\".format(self.num_samples))\n",
            "ValueError: num_samples should be a positive integer value, but got num_samples=0\n"
          ],
          "name": "stdout"
        }
      ]
    },
    {
      "cell_type": "code",
      "metadata": {
        "id": "HAKHPkMGhF70",
        "colab": {
          "base_uri": "https://localhost:8080/"
        },
        "outputId": "b9693137-7ea0-4aa1-d5fd-a563e5851120"
      },
      "source": [
        "!python finetune.py --name monet --mixing --loss r1 --sched --dataset monet --freeze_D --feature_loc 3\n"
      ],
      "execution_count": 12,
      "outputs": [
        {
          "output_type": "stream",
          "text": [
            "/content/Pnina/My Drive/StyleGan_FewShot/train.py:30: UserWarning: This overload of add_ is deprecated:\n",
            "\tadd_(Number alpha, Tensor other)\n",
            "Consider using one of the following signatures instead:\n",
            "\tadd_(Tensor other, *, Number alpha) (Triggered internally at  /pytorch/torch/csrc/utils/python_arg_parser.cpp:1025.)\n",
            "  par1[k].data.mul_(decay).add_(1 - decay, par2[k].data)\n",
            "/usr/local/lib/python3.7/dist-packages/torchvision/models/inception.py:82: FutureWarning: The default weight initialization of inception_v3 will be changed in future releases of torchvision. If you wish to keep the old behavior (which leads to long initialization times due to scipy/scipy#11299), please set init_weights=True.\n",
            "  ' due to scipy/scipy#11299), please set init_weights=True.', FutureWarning)\n",
            "Traceback (most recent call last):\n",
            "  File \"finetune.py\", line 493, in <module>\n",
            "    real_images = torch.stack([dataset[i][1] for i in range(len(dataset))], dim=0)\n",
            "RuntimeError: stack expects a non-empty TensorList\n"
          ],
          "name": "stdout"
        }
      ]
    }
  ]
}